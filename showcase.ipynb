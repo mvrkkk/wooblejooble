{
 "cells": [
  {
   "cell_type": "code",
   "execution_count": 1,
   "metadata": {},
   "outputs": [],
   "source": [
    "# load credentials\n",
    "import pandas as pd\n",
    "from itertools import chain\n",
    "from preprocessing.fileprocessing import read_and_clean\n",
    "from preprocessing.transformers import Z_Score, MaxFeatureIndex, MaxFeatureAbsMeanDiff, CustomNormalizer\n",
    "from preprocessing.pipetools import PipelineBuilder, JooblePipe"
   ]
  },
  {
   "cell_type": "code",
   "execution_count": 2,
   "metadata": {},
   "outputs": [],
   "source": [
    "# set constants\n",
    "TRAIN_DATA_DIR = \"data/train.tsv\"\n",
    "TEST_DATA_DIR = \"data/test.tsv\""
   ]
  },
  {
   "cell_type": "code",
   "execution_count": 3,
   "metadata": {},
   "outputs": [],
   "source": [
    "# load data\n",
    "train_data_dict = read_and_clean(TRAIN_DATA_DIR)\n",
    "test_data_dict = read_and_clean(TEST_DATA_DIR)\n",
    "\n",
    "\n",
    "builder = PipelineBuilder()\n",
    "builder.add_step('z_score', Z_Score())\n",
    "builder.add_step('mfi', MaxFeatureIndex())\n",
    "builder.add_step('mfamd', MaxFeatureAbsMeanDiff())\n",
    "builded_pipe = builder.build_transformer()\n",
    "\n",
    "\n",
    "# apply pipeline\n",
    "\n",
    "result = []\n",
    "\n",
    "# each feature type must be processed with,own transformers and states\n",
    "for each_key in train_data_dict.keys():\n",
    "    \n",
    "    # split each data by it's feature type\n",
    "    train_dx = train_data_dict[each_key].index\n",
    "    test_idx = test_data_dict[each_key].index\n",
    "    \n",
    "    train_set = train_data_dict[each_key]\n",
    "    test_set = test_data_dict[each_key]\n",
    "    \n",
    "    # for each feature type's train and test sets - build its own pipeline\n",
    "    pipeline = JooblePipe()\n",
    "    \n",
    "    # train pipeline from builder object\n",
    "    pipeline.train(builded_pipe, train_set)\n",
    "    \n",
    "    # save state (if needed)\n",
    "    pipeline.save_transformer_state('states/feature_{i}_transformer.pkl'.format(i = each_key))\n",
    "    \n",
    "    # apply pipeline for feature type I for train and test sets\n",
    "    test_set_transformed = pipeline.transform_test(test_set)\n",
    "    test_set_transformed.set_index(test_idx, inplace=True)\n",
    "    \n",
    "    # generate column names\n",
    "    standarterized_col_names = ['feature_{i}_stand_{i2}'.format(i = each_key, i2 = feature_index) for feature_index in range(0,256)]\n",
    "    max_feature_index_colname = ['max_feature_{i}_index'.format(i = each_key)]\n",
    "    max_feat_abs_diff_colname = [\"max_feature_{i}_abs_mean_diff\".format(i = each_key)]\n",
    "    final_cols = list(chain(standarterized_col_names,max_feature_index_colname, max_feat_abs_diff_colname))\n",
    "    \n",
    "    test_set_transformed.columns = final_cols\n",
    "    result.append(test_set_transformed)\n",
    "                                    \n",
    "# stack results if there  \n",
    "main_df = pd.concat(result)\n",
    "main_df.to_csv('output/test_proc_multiple_ftypes.tsv', sep='\\t')"
   ]
  },
  {
   "cell_type": "code",
   "execution_count": 4,
   "metadata": {},
   "outputs": [
    {
     "name": "stdout",
     "output_type": "stream",
     "text": [
      "Pipeline steps:  [('z_score', Z_Score())]\n",
      "Pipeline steps:  [('z_score', Z_Score()), ('mfi', MaxFeatureIndex())]\n",
      "Pipeline steps:  [('z_score', Z_Score()), ('mfi', MaxFeatureIndex()), ('mfamd', MaxFeatureAbsMeanDiff())]\n"
     ]
    }
   ],
   "source": []
  },
  {
   "cell_type": "code",
   "execution_count": 8,
   "metadata": {},
   "outputs": [],
   "source": []
  },
  {
   "cell_type": "code",
   "execution_count": null,
   "metadata": {},
   "outputs": [],
   "source": []
  }
 ],
 "metadata": {
  "kernelspec": {
   "display_name": "Python 3",
   "language": "python",
   "name": "python3"
  },
  "language_info": {
   "codemirror_mode": {
    "name": "ipython",
    "version": 3
   },
   "file_extension": ".py",
   "mimetype": "text/x-python",
   "name": "python",
   "nbconvert_exporter": "python",
   "pygments_lexer": "ipython3",
   "version": "3.7.4"
  }
 },
 "nbformat": 4,
 "nbformat_minor": 4
}
