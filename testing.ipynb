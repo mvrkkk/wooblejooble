{
 "cells": [
  {
   "cell_type": "code",
   "execution_count": 49,
   "metadata": {},
   "outputs": [],
   "source": [
    "import pandas as pd\n",
    "from itertools import chain\n",
    "from preprocessing.datareader import read_and_clean\n",
    "from preprocessing.transformers import Z_Score, MaxFeatureIndex, MaxFeatureAbsMeanDiff, CustomNormalizer\n",
    "from preprocessing.pipetools import PipelineBuilder, save_transformer_state, load_transformer"
   ]
  },
  {
   "cell_type": "code",
   "execution_count": 50,
   "metadata": {},
   "outputs": [],
   "source": [
    "# set constants\n",
    "TRAIN_DATA_DIR = \"data/train.tsv\"\n",
    "TEST_DATA_DIR = \"data/test.tsv\""
   ]
  },
  {
   "cell_type": "code",
   "execution_count": 51,
   "metadata": {},
   "outputs": [
    {
     "name": "stdout",
     "output_type": "stream",
     "text": [
      "data/train.tsv - successfuly loaded. Avaliable feature types: [2]\n",
      "data/test.tsv - successfuly loaded. Avaliable feature types: [2]\n"
     ]
    }
   ],
   "source": [
    "train_data_dict = read_and_clean(TRAIN_DATA_DIR)\n",
    "test_data_dict = read_and_clean(TEST_DATA_DIR)"
   ]
  },
  {
   "cell_type": "code",
   "execution_count": 52,
   "metadata": {},
   "outputs": [
    {
     "name": "stdout",
     "output_type": "stream",
     "text": [
      "Pipeline steps:  [('Z_Score', Z_Score())]\n",
      "Pipeline steps:  [('Z_Score', Z_Score()), ('MaxFeatureIndex', MaxFeatureIndex())]\n",
      "Pipeline steps:  [('Z_Score', Z_Score()), ('MaxFeatureIndex', MaxFeatureIndex()), ('MaxFeatureAbsMeanDiff', MaxFeatureAbsMeanDiff())]\n"
     ]
    }
   ],
   "source": [
    "pipeline = PipelineBuilder()\n",
    "pipeline.add_step('Z_Score',Z_Score())\n",
    "pipeline.add_step('MaxFeatureIndex', MaxFeatureIndex())\n",
    "pipeline.add_step('MaxFeatureAbsMeanDiff', MaxFeatureAbsMeanDiff())\n",
    "pipeline = pipeline.build_transformer()"
   ]
  },
  {
   "cell_type": "code",
   "execution_count": 53,
   "metadata": {},
   "outputs": [],
   "source": [
    "result = []\n",
    "for each_key in train_data_dict.keys():\n",
    "    train_dx = train_data_dict[each_key].index\n",
    "    test_idx = test_data_dict[each_key].index\n",
    "    \n",
    "    train_set = train_data_dict[each_key]\n",
    "    test_set = test_data_dict[each_key]\n",
    "    \n",
    "    piper.fit(train_set)\n",
    "    save_transformer_state(pipeline,'states/feature_{i}_transformer.pkl'.format(i = each_key))\n",
    "    test_set_transformed = pd.DataFrame(pipeline.transform(test_set))\n",
    "    test_set_transformed.set_index(test_idx, inplace=True)\n",
    "    \n",
    "    # generate column names\n",
    "    standarterized_col_names = ['feature_{i}_stand_{i2}'.format(i = each_key, i2 = feature_index) for feature_index in range(0,256)]\n",
    "    max_feature_index_colname = ['max_feature_{i}_index'.format(i = each_key)]\n",
    "    max_feat_abs_diff_colname = [\"max_feature_{i}_abs_mean_diff\".format(i = each_key)]\n",
    "    final_cols = list(chain(standarterized_col_names,max_feature_index_colname, max_feat_abs_diff_colname))\n",
    "    \n",
    "    test_set_transformed.columns = final_cols\n",
    "    result.append(test_set_transformed)\n",
    "    \n",
    "main_df = pd.concat(result)\n",
    "main_df.to_csv('output/test_proc.tsv')"
   ]
  },
  {
   "cell_type": "code",
   "execution_count": null,
   "metadata": {},
   "outputs": [],
   "source": []
  }
 ],
 "metadata": {
  "kernelspec": {
   "display_name": "Python 3",
   "language": "python",
   "name": "python3"
  },
  "language_info": {
   "codemirror_mode": {
    "name": "ipython",
    "version": 3
   },
   "file_extension": ".py",
   "mimetype": "text/x-python",
   "name": "python",
   "nbconvert_exporter": "python",
   "pygments_lexer": "ipython3",
   "version": "3.7.4"
  }
 },
 "nbformat": 4,
 "nbformat_minor": 4
}
